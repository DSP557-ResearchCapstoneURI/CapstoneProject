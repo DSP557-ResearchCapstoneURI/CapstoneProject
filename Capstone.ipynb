{
  "nbformat": 4,
  "nbformat_minor": 0,
  "metadata": {
    "colab": {
      "provenance": [],
      "authorship_tag": "ABX9TyP+yh7d1+pfJX8vq+J65f1O",
      "include_colab_link": true
    },
    "kernelspec": {
      "name": "python3",
      "display_name": "Python 3"
    },
    "language_info": {
      "name": "python"
    }
  },
  "cells": [
    {
      "cell_type": "markdown",
      "metadata": {
        "id": "view-in-github",
        "colab_type": "text"
      },
      "source": [
        "<a href=\"https://colab.research.google.com/github/DSP557-ResearchCapstoneURI/CapstoneProject/blob/Ryan/Capstone.ipynb\" target=\"_parent\"><img src=\"https://colab.research.google.com/assets/colab-badge.svg\" alt=\"Open In Colab\"/></a>"
      ]
    },
    {
      "cell_type": "code",
      "execution_count": 2,
      "metadata": {
        "colab": {
          "base_uri": "https://localhost:8080/"
        },
        "id": "lTCFdw5j9pg1",
        "outputId": "c1eb0fef-69b0-4e16-86c7-0e5e7d5bf923"
      },
      "outputs": [
        {
          "output_type": "stream",
          "name": "stdout",
          "text": [
            "Mounted at /content/drive\n"
          ]
        }
      ],
      "source": [
        "from google.colab import drive\n",
        "drive.mount('/content/drive')"
      ]
    },
    {
      "cell_type": "code",
      "source": [
        "import pandas as pd\n",
        "import numpy as np\n",
        "import matplotlib.pyplot as plt"
      ],
      "metadata": {
        "id": "78auIywD-Q2N"
      },
      "execution_count": 1,
      "outputs": []
    },
    {
      "cell_type": "code",
      "source": [
        "data = pd.DataFrame(pd.read_csv ('/content/drive/My Drive/EPA_SmartLocationDatabase_V3_Jan_2021_Final.csv'))\n",
        "data.describe()"
      ],
      "metadata": {
        "colab": {
          "base_uri": "https://localhost:8080/",
          "height": 346
        },
        "id": "jHn5RI3D-R1Q",
        "outputId": "e6393ee5-0d95-4d71-ebb8-043d2980217f"
      },
      "execution_count": 63,
      "outputs": [
        {
          "output_type": "execute_result",
          "data": {
            "text/plain": [
              "            OBJECTID       GEOID10       GEOID20        STATEFP  \\\n",
              "count  220740.000000  2.207390e+05  2.207400e+05  220740.000000   \n",
              "mean   110370.500000  2.870894e+11  2.870915e+11      28.623190   \n",
              "std     63722.293548  1.640746e+11  1.640774e+11      16.386075   \n",
              "min         1.000000  1.001020e+10  1.001020e+10       1.000000   \n",
              "25%     55185.750000  1.312100e+11  1.312100e+11      13.000000   \n",
              "50%    110370.500000  2.901900e+11  2.901900e+11      29.000000   \n",
              "75%    165555.250000  4.200350e+11  4.200350e+11      42.000000   \n",
              "max    220740.000000  7.803100e+11  7.803100e+11      78.000000   \n",
              "\n",
              "            COUNTYFP        TRACTCE       BLKGRPCE            CSA  \\\n",
              "count  220740.000000  220740.000000  220740.000000  167709.000000   \n",
              "mean       85.697449  262342.382110       2.221392     341.742661   \n",
              "std        98.818946  351403.837442       1.195155     125.700068   \n",
              "min         1.000000     100.000000       0.000000     104.000000   \n",
              "25%        29.000000   10303.000000       1.000000     218.000000   \n",
              "50%        61.000000   46298.000000       2.000000     361.000000   \n",
              "75%       109.000000  482503.000000       3.000000     429.000000   \n",
              "max       840.000000  993000.000000       9.000000     566.000000   \n",
              "\n",
              "                CBSA      CBSA_POP  ...          D5DRI           D5DE  \\\n",
              "count  203645.000000  2.207400e+05  ...  220740.000000  220740.000000   \n",
              "mean    30514.836210  3.607329e+06  ...  -57326.486630  -57326.597590   \n",
              "std     10979.471375  5.219925e+06  ...   49459.959391   49459.830782   \n",
              "min     10100.000000  0.000000e+00  ...  -99999.000000  -99999.000000   \n",
              "25%     19740.000000  2.053030e+05  ...  -99999.000000  -99999.000000   \n",
              "50%     32820.000000  1.252890e+06  ...  -99999.000000  -99999.000000   \n",
              "75%     39300.000000  4.673634e+06  ...       0.142514       0.000354   \n",
              "max     49820.000000  1.931847e+07  ...       1.000000       1.000000   \n",
              "\n",
              "               D5DEI     D2A_Ranked     D2B_Ranked     D3B_Ranked  \\\n",
              "count  220740.000000  220740.000000  220740.000000  220740.000000   \n",
              "mean   -57326.483325      10.500000      10.500000      10.500000   \n",
              "std     49459.963223       5.766294       5.766294       5.766294   \n",
              "min    -99999.000000       1.000000       1.000000       1.000000   \n",
              "25%    -99999.000000       5.750000       5.750000       5.750000   \n",
              "50%    -99999.000000      10.500000      10.500000      10.500000   \n",
              "75%         0.161708      15.250000      15.250000      15.250000   \n",
              "max         1.000000      20.000000      20.000000      20.000000   \n",
              "\n",
              "          D4A_Ranked     NatWalkInd  Shape_Length    Shape_Area  \n",
              "count  220740.000000  220740.000000  2.207400e+05  2.207400e+05  \n",
              "mean        7.624884       9.541628  1.655970e+04  4.466074e+07  \n",
              "std         7.812853       4.373952  3.830373e+04  6.430513e+08  \n",
              "min         1.000000       1.000000  2.685713e+02  4.435890e+03  \n",
              "25%         1.000000       5.833333  3.271213e+03  4.985104e+05  \n",
              "50%         1.000000       9.166667  5.877323e+03  1.373918e+06  \n",
              "75%        16.000000      13.166667  1.596391e+04  9.413158e+06  \n",
              "max        20.000000      20.000000  3.925989e+06  1.641290e+11  \n",
              "\n",
              "[8 rows x 115 columns]"
            ],
            "text/html": [
              "\n",
              "  <div id=\"df-e156196b-2170-4cc6-9e63-d5bbd983c60d\" class=\"colab-df-container\">\n",
              "    <div>\n",
              "<style scoped>\n",
              "    .dataframe tbody tr th:only-of-type {\n",
              "        vertical-align: middle;\n",
              "    }\n",
              "\n",
              "    .dataframe tbody tr th {\n",
              "        vertical-align: top;\n",
              "    }\n",
              "\n",
              "    .dataframe thead th {\n",
              "        text-align: right;\n",
              "    }\n",
              "</style>\n",
              "<table border=\"1\" class=\"dataframe\">\n",
              "  <thead>\n",
              "    <tr style=\"text-align: right;\">\n",
              "      <th></th>\n",
              "      <th>OBJECTID</th>\n",
              "      <th>GEOID10</th>\n",
              "      <th>GEOID20</th>\n",
              "      <th>STATEFP</th>\n",
              "      <th>COUNTYFP</th>\n",
              "      <th>TRACTCE</th>\n",
              "      <th>BLKGRPCE</th>\n",
              "      <th>CSA</th>\n",
              "      <th>CBSA</th>\n",
              "      <th>CBSA_POP</th>\n",
              "      <th>...</th>\n",
              "      <th>D5DRI</th>\n",
              "      <th>D5DE</th>\n",
              "      <th>D5DEI</th>\n",
              "      <th>D2A_Ranked</th>\n",
              "      <th>D2B_Ranked</th>\n",
              "      <th>D3B_Ranked</th>\n",
              "      <th>D4A_Ranked</th>\n",
              "      <th>NatWalkInd</th>\n",
              "      <th>Shape_Length</th>\n",
              "      <th>Shape_Area</th>\n",
              "    </tr>\n",
              "  </thead>\n",
              "  <tbody>\n",
              "    <tr>\n",
              "      <th>count</th>\n",
              "      <td>220740.000000</td>\n",
              "      <td>2.207390e+05</td>\n",
              "      <td>2.207400e+05</td>\n",
              "      <td>220740.000000</td>\n",
              "      <td>220740.000000</td>\n",
              "      <td>220740.000000</td>\n",
              "      <td>220740.000000</td>\n",
              "      <td>167709.000000</td>\n",
              "      <td>203645.000000</td>\n",
              "      <td>2.207400e+05</td>\n",
              "      <td>...</td>\n",
              "      <td>220740.000000</td>\n",
              "      <td>220740.000000</td>\n",
              "      <td>220740.000000</td>\n",
              "      <td>220740.000000</td>\n",
              "      <td>220740.000000</td>\n",
              "      <td>220740.000000</td>\n",
              "      <td>220740.000000</td>\n",
              "      <td>220740.000000</td>\n",
              "      <td>2.207400e+05</td>\n",
              "      <td>2.207400e+05</td>\n",
              "    </tr>\n",
              "    <tr>\n",
              "      <th>mean</th>\n",
              "      <td>110370.500000</td>\n",
              "      <td>2.870894e+11</td>\n",
              "      <td>2.870915e+11</td>\n",
              "      <td>28.623190</td>\n",
              "      <td>85.697449</td>\n",
              "      <td>262342.382110</td>\n",
              "      <td>2.221392</td>\n",
              "      <td>341.742661</td>\n",
              "      <td>30514.836210</td>\n",
              "      <td>3.607329e+06</td>\n",
              "      <td>...</td>\n",
              "      <td>-57326.486630</td>\n",
              "      <td>-57326.597590</td>\n",
              "      <td>-57326.483325</td>\n",
              "      <td>10.500000</td>\n",
              "      <td>10.500000</td>\n",
              "      <td>10.500000</td>\n",
              "      <td>7.624884</td>\n",
              "      <td>9.541628</td>\n",
              "      <td>1.655970e+04</td>\n",
              "      <td>4.466074e+07</td>\n",
              "    </tr>\n",
              "    <tr>\n",
              "      <th>std</th>\n",
              "      <td>63722.293548</td>\n",
              "      <td>1.640746e+11</td>\n",
              "      <td>1.640774e+11</td>\n",
              "      <td>16.386075</td>\n",
              "      <td>98.818946</td>\n",
              "      <td>351403.837442</td>\n",
              "      <td>1.195155</td>\n",
              "      <td>125.700068</td>\n",
              "      <td>10979.471375</td>\n",
              "      <td>5.219925e+06</td>\n",
              "      <td>...</td>\n",
              "      <td>49459.959391</td>\n",
              "      <td>49459.830782</td>\n",
              "      <td>49459.963223</td>\n",
              "      <td>5.766294</td>\n",
              "      <td>5.766294</td>\n",
              "      <td>5.766294</td>\n",
              "      <td>7.812853</td>\n",
              "      <td>4.373952</td>\n",
              "      <td>3.830373e+04</td>\n",
              "      <td>6.430513e+08</td>\n",
              "    </tr>\n",
              "    <tr>\n",
              "      <th>min</th>\n",
              "      <td>1.000000</td>\n",
              "      <td>1.001020e+10</td>\n",
              "      <td>1.001020e+10</td>\n",
              "      <td>1.000000</td>\n",
              "      <td>1.000000</td>\n",
              "      <td>100.000000</td>\n",
              "      <td>0.000000</td>\n",
              "      <td>104.000000</td>\n",
              "      <td>10100.000000</td>\n",
              "      <td>0.000000e+00</td>\n",
              "      <td>...</td>\n",
              "      <td>-99999.000000</td>\n",
              "      <td>-99999.000000</td>\n",
              "      <td>-99999.000000</td>\n",
              "      <td>1.000000</td>\n",
              "      <td>1.000000</td>\n",
              "      <td>1.000000</td>\n",
              "      <td>1.000000</td>\n",
              "      <td>1.000000</td>\n",
              "      <td>2.685713e+02</td>\n",
              "      <td>4.435890e+03</td>\n",
              "    </tr>\n",
              "    <tr>\n",
              "      <th>25%</th>\n",
              "      <td>55185.750000</td>\n",
              "      <td>1.312100e+11</td>\n",
              "      <td>1.312100e+11</td>\n",
              "      <td>13.000000</td>\n",
              "      <td>29.000000</td>\n",
              "      <td>10303.000000</td>\n",
              "      <td>1.000000</td>\n",
              "      <td>218.000000</td>\n",
              "      <td>19740.000000</td>\n",
              "      <td>2.053030e+05</td>\n",
              "      <td>...</td>\n",
              "      <td>-99999.000000</td>\n",
              "      <td>-99999.000000</td>\n",
              "      <td>-99999.000000</td>\n",
              "      <td>5.750000</td>\n",
              "      <td>5.750000</td>\n",
              "      <td>5.750000</td>\n",
              "      <td>1.000000</td>\n",
              "      <td>5.833333</td>\n",
              "      <td>3.271213e+03</td>\n",
              "      <td>4.985104e+05</td>\n",
              "    </tr>\n",
              "    <tr>\n",
              "      <th>50%</th>\n",
              "      <td>110370.500000</td>\n",
              "      <td>2.901900e+11</td>\n",
              "      <td>2.901900e+11</td>\n",
              "      <td>29.000000</td>\n",
              "      <td>61.000000</td>\n",
              "      <td>46298.000000</td>\n",
              "      <td>2.000000</td>\n",
              "      <td>361.000000</td>\n",
              "      <td>32820.000000</td>\n",
              "      <td>1.252890e+06</td>\n",
              "      <td>...</td>\n",
              "      <td>-99999.000000</td>\n",
              "      <td>-99999.000000</td>\n",
              "      <td>-99999.000000</td>\n",
              "      <td>10.500000</td>\n",
              "      <td>10.500000</td>\n",
              "      <td>10.500000</td>\n",
              "      <td>1.000000</td>\n",
              "      <td>9.166667</td>\n",
              "      <td>5.877323e+03</td>\n",
              "      <td>1.373918e+06</td>\n",
              "    </tr>\n",
              "    <tr>\n",
              "      <th>75%</th>\n",
              "      <td>165555.250000</td>\n",
              "      <td>4.200350e+11</td>\n",
              "      <td>4.200350e+11</td>\n",
              "      <td>42.000000</td>\n",
              "      <td>109.000000</td>\n",
              "      <td>482503.000000</td>\n",
              "      <td>3.000000</td>\n",
              "      <td>429.000000</td>\n",
              "      <td>39300.000000</td>\n",
              "      <td>4.673634e+06</td>\n",
              "      <td>...</td>\n",
              "      <td>0.142514</td>\n",
              "      <td>0.000354</td>\n",
              "      <td>0.161708</td>\n",
              "      <td>15.250000</td>\n",
              "      <td>15.250000</td>\n",
              "      <td>15.250000</td>\n",
              "      <td>16.000000</td>\n",
              "      <td>13.166667</td>\n",
              "      <td>1.596391e+04</td>\n",
              "      <td>9.413158e+06</td>\n",
              "    </tr>\n",
              "    <tr>\n",
              "      <th>max</th>\n",
              "      <td>220740.000000</td>\n",
              "      <td>7.803100e+11</td>\n",
              "      <td>7.803100e+11</td>\n",
              "      <td>78.000000</td>\n",
              "      <td>840.000000</td>\n",
              "      <td>993000.000000</td>\n",
              "      <td>9.000000</td>\n",
              "      <td>566.000000</td>\n",
              "      <td>49820.000000</td>\n",
              "      <td>1.931847e+07</td>\n",
              "      <td>...</td>\n",
              "      <td>1.000000</td>\n",
              "      <td>1.000000</td>\n",
              "      <td>1.000000</td>\n",
              "      <td>20.000000</td>\n",
              "      <td>20.000000</td>\n",
              "      <td>20.000000</td>\n",
              "      <td>20.000000</td>\n",
              "      <td>20.000000</td>\n",
              "      <td>3.925989e+06</td>\n",
              "      <td>1.641290e+11</td>\n",
              "    </tr>\n",
              "  </tbody>\n",
              "</table>\n",
              "<p>8 rows × 115 columns</p>\n",
              "</div>\n",
              "    <div class=\"colab-df-buttons\">\n",
              "\n",
              "  <div class=\"colab-df-container\">\n",
              "    <button class=\"colab-df-convert\" onclick=\"convertToInteractive('df-e156196b-2170-4cc6-9e63-d5bbd983c60d')\"\n",
              "            title=\"Convert this dataframe to an interactive table.\"\n",
              "            style=\"display:none;\">\n",
              "\n",
              "  <svg xmlns=\"http://www.w3.org/2000/svg\" height=\"24px\" viewBox=\"0 -960 960 960\">\n",
              "    <path d=\"M120-120v-720h720v720H120Zm60-500h600v-160H180v160Zm220 220h160v-160H400v160Zm0 220h160v-160H400v160ZM180-400h160v-160H180v160Zm440 0h160v-160H620v160ZM180-180h160v-160H180v160Zm440 0h160v-160H620v160Z\"/>\n",
              "  </svg>\n",
              "    </button>\n",
              "\n",
              "  <style>\n",
              "    .colab-df-container {\n",
              "      display:flex;\n",
              "      gap: 12px;\n",
              "    }\n",
              "\n",
              "    .colab-df-convert {\n",
              "      background-color: #E8F0FE;\n",
              "      border: none;\n",
              "      border-radius: 50%;\n",
              "      cursor: pointer;\n",
              "      display: none;\n",
              "      fill: #1967D2;\n",
              "      height: 32px;\n",
              "      padding: 0 0 0 0;\n",
              "      width: 32px;\n",
              "    }\n",
              "\n",
              "    .colab-df-convert:hover {\n",
              "      background-color: #E2EBFA;\n",
              "      box-shadow: 0px 1px 2px rgba(60, 64, 67, 0.3), 0px 1px 3px 1px rgba(60, 64, 67, 0.15);\n",
              "      fill: #174EA6;\n",
              "    }\n",
              "\n",
              "    .colab-df-buttons div {\n",
              "      margin-bottom: 4px;\n",
              "    }\n",
              "\n",
              "    [theme=dark] .colab-df-convert {\n",
              "      background-color: #3B4455;\n",
              "      fill: #D2E3FC;\n",
              "    }\n",
              "\n",
              "    [theme=dark] .colab-df-convert:hover {\n",
              "      background-color: #434B5C;\n",
              "      box-shadow: 0px 1px 3px 1px rgba(0, 0, 0, 0.15);\n",
              "      filter: drop-shadow(0px 1px 2px rgba(0, 0, 0, 0.3));\n",
              "      fill: #FFFFFF;\n",
              "    }\n",
              "  </style>\n",
              "\n",
              "    <script>\n",
              "      const buttonEl =\n",
              "        document.querySelector('#df-e156196b-2170-4cc6-9e63-d5bbd983c60d button.colab-df-convert');\n",
              "      buttonEl.style.display =\n",
              "        google.colab.kernel.accessAllowed ? 'block' : 'none';\n",
              "\n",
              "      async function convertToInteractive(key) {\n",
              "        const element = document.querySelector('#df-e156196b-2170-4cc6-9e63-d5bbd983c60d');\n",
              "        const dataTable =\n",
              "          await google.colab.kernel.invokeFunction('convertToInteractive',\n",
              "                                                    [key], {});\n",
              "        if (!dataTable) return;\n",
              "\n",
              "        const docLinkHtml = 'Like what you see? Visit the ' +\n",
              "          '<a target=\"_blank\" href=https://colab.research.google.com/notebooks/data_table.ipynb>data table notebook</a>'\n",
              "          + ' to learn more about interactive tables.';\n",
              "        element.innerHTML = '';\n",
              "        dataTable['output_type'] = 'display_data';\n",
              "        await google.colab.output.renderOutput(dataTable, element);\n",
              "        const docLink = document.createElement('div');\n",
              "        docLink.innerHTML = docLinkHtml;\n",
              "        element.appendChild(docLink);\n",
              "      }\n",
              "    </script>\n",
              "  </div>\n",
              "\n",
              "\n",
              "<div id=\"df-df8d120d-62ad-4907-a836-5a991cc6f06d\">\n",
              "  <button class=\"colab-df-quickchart\" onclick=\"quickchart('df-df8d120d-62ad-4907-a836-5a991cc6f06d')\"\n",
              "            title=\"Suggest charts\"\n",
              "            style=\"display:none;\">\n",
              "\n",
              "<svg xmlns=\"http://www.w3.org/2000/svg\" height=\"24px\"viewBox=\"0 0 24 24\"\n",
              "     width=\"24px\">\n",
              "    <g>\n",
              "        <path d=\"M19 3H5c-1.1 0-2 .9-2 2v14c0 1.1.9 2 2 2h14c1.1 0 2-.9 2-2V5c0-1.1-.9-2-2-2zM9 17H7v-7h2v7zm4 0h-2V7h2v10zm4 0h-2v-4h2v4z\"/>\n",
              "    </g>\n",
              "</svg>\n",
              "  </button>\n",
              "\n",
              "<style>\n",
              "  .colab-df-quickchart {\n",
              "      --bg-color: #E8F0FE;\n",
              "      --fill-color: #1967D2;\n",
              "      --hover-bg-color: #E2EBFA;\n",
              "      --hover-fill-color: #174EA6;\n",
              "      --disabled-fill-color: #AAA;\n",
              "      --disabled-bg-color: #DDD;\n",
              "  }\n",
              "\n",
              "  [theme=dark] .colab-df-quickchart {\n",
              "      --bg-color: #3B4455;\n",
              "      --fill-color: #D2E3FC;\n",
              "      --hover-bg-color: #434B5C;\n",
              "      --hover-fill-color: #FFFFFF;\n",
              "      --disabled-bg-color: #3B4455;\n",
              "      --disabled-fill-color: #666;\n",
              "  }\n",
              "\n",
              "  .colab-df-quickchart {\n",
              "    background-color: var(--bg-color);\n",
              "    border: none;\n",
              "    border-radius: 50%;\n",
              "    cursor: pointer;\n",
              "    display: none;\n",
              "    fill: var(--fill-color);\n",
              "    height: 32px;\n",
              "    padding: 0;\n",
              "    width: 32px;\n",
              "  }\n",
              "\n",
              "  .colab-df-quickchart:hover {\n",
              "    background-color: var(--hover-bg-color);\n",
              "    box-shadow: 0 1px 2px rgba(60, 64, 67, 0.3), 0 1px 3px 1px rgba(60, 64, 67, 0.15);\n",
              "    fill: var(--button-hover-fill-color);\n",
              "  }\n",
              "\n",
              "  .colab-df-quickchart-complete:disabled,\n",
              "  .colab-df-quickchart-complete:disabled:hover {\n",
              "    background-color: var(--disabled-bg-color);\n",
              "    fill: var(--disabled-fill-color);\n",
              "    box-shadow: none;\n",
              "  }\n",
              "\n",
              "  .colab-df-spinner {\n",
              "    border: 2px solid var(--fill-color);\n",
              "    border-color: transparent;\n",
              "    border-bottom-color: var(--fill-color);\n",
              "    animation:\n",
              "      spin 1s steps(1) infinite;\n",
              "  }\n",
              "\n",
              "  @keyframes spin {\n",
              "    0% {\n",
              "      border-color: transparent;\n",
              "      border-bottom-color: var(--fill-color);\n",
              "      border-left-color: var(--fill-color);\n",
              "    }\n",
              "    20% {\n",
              "      border-color: transparent;\n",
              "      border-left-color: var(--fill-color);\n",
              "      border-top-color: var(--fill-color);\n",
              "    }\n",
              "    30% {\n",
              "      border-color: transparent;\n",
              "      border-left-color: var(--fill-color);\n",
              "      border-top-color: var(--fill-color);\n",
              "      border-right-color: var(--fill-color);\n",
              "    }\n",
              "    40% {\n",
              "      border-color: transparent;\n",
              "      border-right-color: var(--fill-color);\n",
              "      border-top-color: var(--fill-color);\n",
              "    }\n",
              "    60% {\n",
              "      border-color: transparent;\n",
              "      border-right-color: var(--fill-color);\n",
              "    }\n",
              "    80% {\n",
              "      border-color: transparent;\n",
              "      border-right-color: var(--fill-color);\n",
              "      border-bottom-color: var(--fill-color);\n",
              "    }\n",
              "    90% {\n",
              "      border-color: transparent;\n",
              "      border-bottom-color: var(--fill-color);\n",
              "    }\n",
              "  }\n",
              "</style>\n",
              "\n",
              "  <script>\n",
              "    async function quickchart(key) {\n",
              "      const quickchartButtonEl =\n",
              "        document.querySelector('#' + key + ' button');\n",
              "      quickchartButtonEl.disabled = true;  // To prevent multiple clicks.\n",
              "      quickchartButtonEl.classList.add('colab-df-spinner');\n",
              "      try {\n",
              "        const charts = await google.colab.kernel.invokeFunction(\n",
              "            'suggestCharts', [key], {});\n",
              "      } catch (error) {\n",
              "        console.error('Error during call to suggestCharts:', error);\n",
              "      }\n",
              "      quickchartButtonEl.classList.remove('colab-df-spinner');\n",
              "      quickchartButtonEl.classList.add('colab-df-quickchart-complete');\n",
              "    }\n",
              "    (() => {\n",
              "      let quickchartButtonEl =\n",
              "        document.querySelector('#df-df8d120d-62ad-4907-a836-5a991cc6f06d button');\n",
              "      quickchartButtonEl.style.display =\n",
              "        google.colab.kernel.accessAllowed ? 'block' : 'none';\n",
              "    })();\n",
              "  </script>\n",
              "</div>\n",
              "\n",
              "    </div>\n",
              "  </div>\n"
            ],
            "application/vnd.google.colaboratory.intrinsic+json": {
              "type": "dataframe"
            }
          },
          "metadata": {},
          "execution_count": 63
        }
      ]
    },
    {
      "cell_type": "code",
      "source": [
        "column_list = data.columns.tolist()\n",
        "print(column_list)"
      ],
      "metadata": {
        "colab": {
          "base_uri": "https://localhost:8080/"
        },
        "id": "yvjJCaui-8sg",
        "outputId": "c910dbd2-937c-4497-9266-27f5e8071121"
      },
      "execution_count": 64,
      "outputs": [
        {
          "output_type": "stream",
          "name": "stdout",
          "text": [
            "['OBJECTID', 'GEOID10', 'GEOID20', 'STATEFP', 'COUNTYFP', 'TRACTCE', 'BLKGRPCE', 'CSA', 'CSA_Name', 'CBSA', 'CBSA_Name', 'CBSA_POP', 'CBSA_EMP', 'CBSA_WRK', 'Ac_Total', 'Ac_Water', 'Ac_Land', 'Ac_Unpr', 'TotPop', 'CountHU', 'HH', 'P_WrkAge', 'AutoOwn0', 'Pct_AO0', 'AutoOwn1', 'Pct_AO1', 'AutoOwn2p', 'Pct_AO2p', 'Workers', 'R_LowWageWk', 'R_MedWageWk', 'R_HiWageWk', 'R_PCTLOWWAGE', 'TotEmp', 'E5_Ret', 'E5_Off', 'E5_Ind', 'E5_Svc', 'E5_Ent', 'E8_Ret', 'E8_off', 'E8_Ind', 'E8_Svc', 'E8_Ent', 'E8_Ed', 'E8_Hlth', 'E8_Pub', 'E_LowWageWk', 'E_MedWageWk', 'E_HiWageWk', 'E_PctLowWage', 'D1A', 'D1B', 'D1C', 'D1C5_RET', 'D1C5_OFF', 'D1C5_IND', 'D1C5_SVC', 'D1C5_ENT', 'D1C8_RET', 'D1C8_OFF', 'D1C8_IND', 'D1C8_SVC', 'D1C8_ENT', 'D1C8_ED', 'D1C8_HLTH', 'D1C8_PUB', 'D1D', 'D1_FLAG', 'D2A_JPHH', 'D2B_E5MIX', 'D2B_E5MIXA', 'D2B_E8MIX', 'D2B_E8MIXA', 'D2A_EPHHM', 'D2C_TRPMX1', 'D2C_TRPMX2', 'D2C_TRIPEQ', 'D2R_JOBPOP', 'D2R_WRKEMP', 'D2A_WRKEMP', 'D2C_WREMLX', 'D3A', 'D3AAO', 'D3AMM', 'D3APO', 'D3B', 'D3BAO', 'D3BMM3', 'D3BMM4', 'D3BPO3', 'D3BPO4', 'D4A', 'D4B025', 'D4B050', 'D4C', 'D4D', 'D4E', 'D5AR', 'D5AE', 'D5BR', 'D5BE', 'D5CR', 'D5CRI', 'D5CE', 'D5CEI', 'D5DR', 'D5DRI', 'D5DE', 'D5DEI', 'D2A_Ranked', 'D2B_Ranked', 'D3B_Ranked', 'D4A_Ranked', 'NatWalkInd', 'Shape_Length', 'Shape_Area']\n"
          ]
        }
      ]
    },
    {
      "cell_type": "code",
      "source": [
        "# make the walkability score its own dependent variable\n",
        "walkability_given = data['NatWalkInd']\n",
        "print(walkability_given.describe())"
      ],
      "metadata": {
        "id": "VnP6IJenxVhZ",
        "outputId": "44fdc463-bfbd-4c29-8783-e553d32373b1",
        "colab": {
          "base_uri": "https://localhost:8080/"
        }
      },
      "execution_count": 65,
      "outputs": [
        {
          "output_type": "stream",
          "name": "stdout",
          "text": [
            "count    220740.000000\n",
            "mean          9.541628\n",
            "std           4.373952\n",
            "min           1.000000\n",
            "25%           5.833333\n",
            "50%           9.166667\n",
            "75%          13.166667\n",
            "max          20.000000\n",
            "Name: NatWalkInd, dtype: float64\n"
          ]
        }
      ]
    },
    {
      "cell_type": "code",
      "source": [
        "# drop walkability score from the dataset, leaving only dependent variables\n",
        "# drop OBJECTID because it is the GIS ID number\n",
        "# drop Shape length and area because these are the GIS shape measurements and not independent variables\n",
        "columns_to_drop = ['NatWalkInd', 'OBJECTID', 'Shape_Length', 'Shape_Area']\n",
        "data = data.drop(columns=columns_to_drop)"
      ],
      "metadata": {
        "id": "FqRwyNF80Zi3"
      },
      "execution_count": 66,
      "outputs": []
    },
    {
      "cell_type": "code",
      "source": [
        "# find the originial shape of the dataframe\n",
        "data.shape"
      ],
      "metadata": {
        "colab": {
          "base_uri": "https://localhost:8080/"
        },
        "id": "9VGp6F2A__mc",
        "outputId": "70ee8616-18f9-405e-b878-ab8694541c1f"
      },
      "execution_count": 67,
      "outputs": [
        {
          "output_type": "execute_result",
          "data": {
            "text/plain": [
              "(220740, 113)"
            ]
          },
          "metadata": {},
          "execution_count": 67
        }
      ]
    },
    {
      "cell_type": "code",
      "source": [
        "#find the columns that contain null values\n",
        "num_nulls_in_columns = data.isnull().sum()\n",
        "columns_containing_nulls = num_nulls_in_columns[num_nulls_in_columns > 0]\n",
        "print(columns_containing_nulls)"
      ],
      "metadata": {
        "id": "rrJ6rGUh1HUC",
        "outputId": "affd47c4-7362-42ec-d93c-7de74d880111",
        "colab": {
          "base_uri": "https://localhost:8080/"
        }
      },
      "execution_count": 73,
      "outputs": [
        {
          "output_type": "stream",
          "name": "stdout",
          "text": [
            "GEOID10          1\n",
            "CSA          53031\n",
            "CSA_Name     53031\n",
            "CBSA         17095\n",
            "CBSA_Name    17095\n",
            "CountHU        275\n",
            "HH             275\n",
            "D1A            271\n",
            "D1C8_OFF       605\n",
            "D4D              1\n",
            "D4E              1\n",
            "dtype: int64\n"
          ]
        }
      ]
    },
    {
      "cell_type": "code",
      "source": [
        "# find the number of numeric and categorical columns in the dataset\n",
        "numeric_cols = data.select_dtypes(include=['number']).columns\n",
        "categorical_cols = data.select_dtypes(include=['object', 'category']).columns\n",
        "\n",
        "print(\"Numeric Columns:\", len(numeric_cols))\n",
        "print(\"Categorical Columns:\", len(categorical_cols))"
      ],
      "metadata": {
        "colab": {
          "base_uri": "https://localhost:8080/"
        },
        "id": "gQ5cqD42ik4A",
        "outputId": "4f81a704-04eb-4df5-d844-9817d6647f10"
      },
      "execution_count": 75,
      "outputs": [
        {
          "output_type": "stream",
          "name": "stdout",
          "text": [
            "Numeric Columns: 111\n",
            "Categorical Columns: 2\n"
          ]
        }
      ]
    },
    {
      "cell_type": "code",
      "source": [
        "# analyze the categorical columns\n",
        "print(\"Categorical Column Names:\", categorical_cols)\n",
        "cat_cols = data[categorical_cols]\n",
        "print(cat_cols.nunique())\n",
        "print(cat_cols.head())"
      ],
      "metadata": {
        "colab": {
          "base_uri": "https://localhost:8080/"
        },
        "id": "rDxC-PDfjyLF",
        "outputId": "d67e554b-8d79-427a-c491-f4eba4a212f7"
      },
      "execution_count": 76,
      "outputs": [
        {
          "output_type": "stream",
          "name": "stdout",
          "text": [
            "Categorical Column Names: Index(['CSA_Name', 'CBSA_Name'], dtype='object')\n",
            "CSA_Name     175\n",
            "CBSA_Name    938\n",
            "dtype: int64\n",
            "                   CSA_Name                        CBSA_Name\n",
            "0  Dallas-Fort Worth, TX-OK  Dallas-Fort Worth-Arlington, TX\n",
            "1  Dallas-Fort Worth, TX-OK  Dallas-Fort Worth-Arlington, TX\n",
            "2  Dallas-Fort Worth, TX-OK  Dallas-Fort Worth-Arlington, TX\n",
            "3  Dallas-Fort Worth, TX-OK  Dallas-Fort Worth-Arlington, TX\n",
            "4  Dallas-Fort Worth, TX-OK  Dallas-Fort Worth-Arlington, TX\n"
          ]
        }
      ]
    },
    {
      "cell_type": "code",
      "source": [
        "# drop the categorical columns from the dataset\n",
        "data.drop(cat_cols, axis=1, inplace=True)"
      ],
      "metadata": {
        "id": "QteTKl8lmBvu"
      },
      "execution_count": 77,
      "outputs": []
    },
    {
      "cell_type": "code",
      "source": [
        "# verify the shape of the dataset after dropped rows and columns\n",
        "data.shape"
      ],
      "metadata": {
        "colab": {
          "base_uri": "https://localhost:8080/"
        },
        "id": "pdaybeEmmQEM",
        "outputId": "2477b68f-95b2-46f6-b03e-9aac1ba3bd92"
      },
      "execution_count": 78,
      "outputs": [
        {
          "output_type": "execute_result",
          "data": {
            "text/plain": [
              "(220740, 111)"
            ]
          },
          "metadata": {},
          "execution_count": 78
        }
      ]
    },
    {
      "cell_type": "code",
      "source": [
        "# check to see the columns containing null values again\n",
        "num_nulls_in_columns = data.isnull().sum()\n",
        "columns_containing_nulls = num_nulls_in_columns[num_nulls_in_columns > 0]\n",
        "print(columns_containing_nulls)\n",
        "# we removed the two categorical columns that contain nulls, but the numeric still contain the same number of nulls, so we were not able to save any rows\n",
        "\n",
        "# find the total number of null values in the dataframe\n",
        "data.isnull().sum().sum()"
      ],
      "metadata": {
        "colab": {
          "base_uri": "https://localhost:8080/"
        },
        "id": "E6WWlBivAFmE",
        "outputId": "b3a81b25-086e-4ec1-8f1e-ebe825930e9a"
      },
      "execution_count": 80,
      "outputs": [
        {
          "output_type": "stream",
          "name": "stdout",
          "text": [
            "GEOID10         1\n",
            "CSA         53031\n",
            "CBSA        17095\n",
            "CountHU       275\n",
            "HH            275\n",
            "D1A           271\n",
            "D1C8_OFF      605\n",
            "D4D             1\n",
            "D4E             1\n",
            "dtype: int64\n",
            "71555\n"
          ]
        }
      ]
    },
    {
      "cell_type": "code",
      "source": [
        "# remove all rows that contain null values\n",
        "data = data.dropna()\n",
        "print(data.shape)\n",
        "data.isnull().sum().sum()"
      ],
      "metadata": {
        "colab": {
          "base_uri": "https://localhost:8080/"
        },
        "id": "aju1JPONiPUc",
        "outputId": "d98b7f37-77d3-4a4f-92bc-c650b1441cbc"
      },
      "execution_count": 81,
      "outputs": [
        {
          "output_type": "stream",
          "name": "stdout",
          "text": [
            "(167265, 111)\n"
          ]
        },
        {
          "output_type": "execute_result",
          "data": {
            "text/plain": [
              "0"
            ]
          },
          "metadata": {},
          "execution_count": 81
        }
      ]
    },
    {
      "cell_type": "code",
      "source": [
        "# make correlation and covariance matrix\n",
        "corr_matrix = data.corr()\n",
        "cov_matrix = data.cov()\n",
        "\n",
        "fig, ax = plt.subplots(figsize=(6, 4))\n",
        "\n",
        "# Display the correlation matrix as an image\n",
        "corr_matrix_image = ax.matshow(corr_matrix, cmap=\"coolwarm\", vmin=-1, vmax=1)\n",
        "\n",
        "# Add color bar\n",
        "fig.colorbar(corr_matrix_image)\n",
        "\n",
        "# Show the plot\n",
        "plt.title(\"Correlation Matrix\", pad=20)\n",
        "plt.show()"
      ],
      "metadata": {
        "id": "OxE1cu9QpnDl",
        "outputId": "f22434e2-c766-420a-c04d-0e361f41fcc3",
        "colab": {
          "base_uri": "https://localhost:8080/",
          "height": 395
        }
      },
      "execution_count": 61,
      "outputs": [
        {
          "output_type": "display_data",
          "data": {
            "text/plain": [
              "<Figure size 600x400 with 2 Axes>"
            ],
            "image/png": "[encoded data removed]"
          },
          "metadata": {}
        }
      ]
    },
    {
      "cell_type": "markdown",
      "source": [
        "Everything really red or really blue is highly correlated and should be reviewed to be removed after PCA, if PCA doesn't cover it. It is really cool how the highly correlated fields seem to form squares. This shows that the correlated columns are next to each other, which makes sense when looking at the column names."
      ],
      "metadata": {
        "id": "-XMwcM2FuRux"
      }
    },
    {
      "cell_type": "markdown",
      "source": [
        "From here, we still have a lot of data cleaning to complete before the dataset is ready to analyze. Mainly we need to reduce the dimensionality, which will likely be fixed with PCA analysis, but may require some manual effort after. We also need to set up the dataset to randomly subset the dataset down to, say, 1000 rows at a time. We can set a seed to start, but we may want this to be randomly generated each time.\n",
        "\n",
        "I deleted the 2 categorical datasets because separating these out to 1s and 0s would cause the dimensionality to increase even more. And I don't want to list them 1 to however-many-values because I don't want this to be thought of as a weighted score when it is just the locations of the points.\n",
        "\n",
        "I think simply deleting these 2 columns warrants further discussion, but my thought is that our analysis should be based on the walkability of the area without knowing the location so that we can create a map to show the walkability scores in each location without having that location impact our model's accuracy.\n",
        "\n",
        "Whenever deleting columns, be sure to include why you are deleting the columns in the notes so we can discuss further on Thursday. For example, if the columns have duplicate data, or are too highly correlated. We can use the PCA analysis as our main explanation for reducing the dimensionality too."
      ],
      "metadata": {
        "id": "zcN1kD1SnbdY"
      }
    }
  ]
}